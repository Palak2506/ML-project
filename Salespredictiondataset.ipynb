{
  "nbformat": 4,
  "nbformat_minor": 0,
  "metadata": {
    "colab": {
      "provenance": [],
      "authorship_tag": "ABX9TyOlsyiD0Icpp7ZYzsRatOSk",
      "include_colab_link": true
    },
    "kernelspec": {
      "name": "python3",
      "display_name": "Python 3"
    },
    "language_info": {
      "name": "python"
    }
  },
  "cells": [
    {
      "cell_type": "markdown",
      "metadata": {
        "id": "view-in-github",
        "colab_type": "text"
      },
      "source": [
        "<a href=\"https://colab.research.google.com/github/Palak2506/ML-project/blob/main/Salespredictiondataset.ipynb\" target=\"_parent\"><img src=\"https://colab.research.google.com/assets/colab-badge.svg\" alt=\"Open In Colab\"/></a>"
      ]
    },
    {
      "cell_type": "code",
      "execution_count": 1,
      "metadata": {
        "id": "zM_qicQCRmLl"
      },
      "outputs": [],
      "source": [
        "# Step 1: Import Libraries\n",
        "import pandas as pd\n",
        "import matplotlib.pyplot as plt\n",
        "import seaborn as sns\n",
        "from sklearn.linear_model import LinearRegression\n",
        "from sklearn.preprocessing import StandardScaler\n",
        "from sklearn.metrics import mean_squared_error, r2_score\n",
        "from sklearn.model_selection import train_test_split\n",
        "import numpy as np\n"
      ]
    },
    {
      "cell_type": "code",
      "source": [
        "# Step 2: Load Dataset\n",
        "df = pd.read_excel('advertising_sales_data.xlsx')"
      ],
      "metadata": {
        "id": "yXI4P_8oR7-7"
      },
      "execution_count": 3,
      "outputs": []
    },
    {
      "cell_type": "code",
      "source": [
        "# Step 3: Basic Exploration\n",
        "print(\"First 5 rows:\")\n",
        "print(df.head())"
      ],
      "metadata": {
        "colab": {
          "base_uri": "https://localhost:8080/"
        },
        "id": "NnoUWkvCSNNP",
        "outputId": "6d47f3b2-3545-4463-d26b-ba9d80a84a28"
      },
      "execution_count": 4,
      "outputs": [
        {
          "output_type": "stream",
          "name": "stdout",
          "text": [
            "First 5 rows:\n",
            "  Campaign     TV  Radio  Newspaper  Sales\n",
            "0    camp1  230.1   37.8       69.2   22.1\n",
            "1    camp2   44.5   39.3       45.1   10.4\n",
            "2    camp3   17.2   45.9       69.3   12.0\n",
            "3    camp4  151.5   41.3       58.5   16.5\n",
            "4    camp5  180.8   10.8       58.4   17.9\n"
          ]
        }
      ]
    },
    {
      "cell_type": "code",
      "source": [
        "# ========================================\n",
        "# Question 1: Average TV advertising spend\n",
        "# ========================================\n",
        "avg_tv = df['TV'].mean()\n",
        "print(f\"\\n1. Average TV advertising spend: ${avg_tv:.2f}\")"
      ],
      "metadata": {
        "colab": {
          "base_uri": "https://localhost:8080/"
        },
        "id": "ViUPB4CUSOfy",
        "outputId": "51e926fd-e0ca-4a1e-e79f-02ed923945a8"
      },
      "execution_count": 5,
      "outputs": [
        {
          "output_type": "stream",
          "name": "stdout",
          "text": [
            "\n",
            "1. Average TV advertising spend: $147.04\n"
          ]
        }
      ]
    },
    {
      "cell_type": "code",
      "source": [
        "# ========================================\n",
        "# Question 2: Correlation between Radio and Sales\n",
        "# ========================================\n",
        "correlation = df[['Radio', 'Sales']].corr().iloc[0, 1]\n",
        "print(f\"\\n2. Correlation between Radio and Sales: {correlation:.4f}\")"
      ],
      "metadata": {
        "colab": {
          "base_uri": "https://localhost:8080/"
        },
        "id": "TRMD4jDVSTEo",
        "outputId": "eaccf750-c043-455e-9ad2-35564ae4a0b7"
      },
      "execution_count": 6,
      "outputs": [
        {
          "output_type": "stream",
          "name": "stdout",
          "text": [
            "\n",
            "2. Correlation between Radio and Sales: 0.3497\n"
          ]
        }
      ]
    },
    {
      "cell_type": "code",
      "source": [
        "# ========================================\n",
        "# Question 3: Feature with Highest Impact on Sales\n",
        "# ========================================\n",
        "correlations = df[['TV', 'Radio', 'Newspaper', 'Sales']].corr()['Sales'].drop('Sales')\n",
        "top_feature = correlations.abs().idxmax()\n",
        "print(f\"\\n3. Feature with highest impact on Sales: {top_feature} (Correlation: {correlations[top_feature]:.4f})\")"
      ],
      "metadata": {
        "colab": {
          "base_uri": "https://localhost:8080/"
        },
        "id": "fH4cZIO2SXKE",
        "outputId": "bc620824-0f66-4354-c7d5-18bae3142dbf"
      },
      "execution_count": 7,
      "outputs": [
        {
          "output_type": "stream",
          "name": "stdout",
          "text": [
            "\n",
            "3. Feature with highest impact on Sales: TV (Correlation: 0.9012)\n"
          ]
        }
      ]
    },
    {
      "cell_type": "code",
      "source": [
        "df.dropna(inplace=True)  # Removes rows with missing values\n",
        "\n",
        "# ========================================\n",
        "# Question 4: Linear Regression Model (All Features)\n",
        "# ========================================\n",
        "X = df[['TV', 'Radio', 'Newspaper']]\n",
        "y = df['Sales']\n",
        "\n",
        "X_train, X_test, y_train, y_test = train_test_split(X, y, random_state=42)\n",
        "model = LinearRegression()\n",
        "model.fit(X_train, y_train)\n",
        "\n",
        "y_pred = model.predict(X_test)\n",
        "\n",
        "# Plot Actual vs Predicted\n",
        "plt.figure(figsize=(8, 5))\n",
        "plt.scatter(y_test, y_pred, color='green')\n",
        "plt.plot([y.min(), y.max()], [y.min(), y.max()], 'k--', lw=2)\n",
        "plt.xlabel(\"Actual Sales\")\n",
        "plt.ylabel(\"Predicted Sales\")\n",
        "plt.title(\"Actual vs Predicted Sales (Linear Regression)\")\n",
        "plt.grid(True)\n",
        "plt.show()\n"
      ],
      "metadata": {
        "colab": {
          "base_uri": "https://localhost:8080/",
          "height": 487
        },
        "id": "VQqMVsvsSnGr",
        "outputId": "180859f5-b1b6-457c-b0be-da0c5d324960"
      },
      "execution_count": 10,
      "outputs": [
        {
          "output_type": "display_data",
          "data": {
            "text/plain": [
              "<Figure size 800x500 with 1 Axes>"
            ],
            "image/png": "[encoded data removed]"
          },
          "metadata": {}
        }
      ]
    },
    {
      "cell_type": "code",
      "source": [
        "# ========================================\n",
        "# Question 5: Predict for New Ad Budget\n",
        "# ========================================\n",
        "new_data = pd.DataFrame({'TV': [200], 'Radio': [40], 'Newspaper': [50]})\n",
        "predicted_sales = model.predict(new_data)[0]\n",
        "print(f\"\\n5. Predicted sales for TV=$200, Radio=$40, Newspaper=$50: {predicted_sales:.2f}\")"
      ],
      "metadata": {
        "colab": {
          "base_uri": "https://localhost:8080/"
        },
        "id": "w4l08Z0gS9Zp",
        "outputId": "37290477-304a-49f0-c20b-7aaedbfe0f2f"
      },
      "execution_count": 11,
      "outputs": [
        {
          "output_type": "stream",
          "name": "stdout",
          "text": [
            "\n",
            "5. Predicted sales for TV=$200, Radio=$40, Newspaper=$50: 19.90\n"
          ]
        }
      ]
    },
    {
      "cell_type": "code",
      "source": [
        "# ========================================\n",
        "# Question 6: Model Performance with Normalized Data\n",
        "# ========================================\n",
        "scaler = StandardScaler()\n",
        "X_scaled = scaler.fit_transform(X)\n",
        "\n",
        "X_train_scaled, X_test_scaled, y_train, y_test = train_test_split(X_scaled, y, random_state=42)\n",
        "model_norm = LinearRegression()\n",
        "model_norm.fit(X_train_scaled, y_train)\n",
        "y_pred_scaled = model_norm.predict(X_test_scaled)\n",
        "\n",
        "mse = mean_squared_error(y_test, y_pred_scaled)\n",
        "r2 = r2_score(y_test, y_pred_scaled)\n",
        "print(f\"\\n6. Performance with normalization: MSE = {mse:.4f}, R² = {r2:.4f}\")\n"
      ],
      "metadata": {
        "colab": {
          "base_uri": "https://localhost:8080/"
        },
        "id": "RqqI8hO-TBtH",
        "outputId": "5081df96-c143-454f-c4ef-657efac7d854"
      },
      "execution_count": 12,
      "outputs": [
        {
          "output_type": "stream",
          "name": "stdout",
          "text": [
            "\n",
            "6. Performance with normalization: MSE = 2.2955, R² = 0.8982\n"
          ]
        }
      ]
    },
    {
      "cell_type": "code",
      "source": [
        "# ========================================\n",
        "# Question 7: Model with Only Radio and Newspaper\n",
        "# ========================================\n",
        "X_alt = df[['Radio', 'Newspaper']]\n",
        "X_train_alt, X_test_alt, y_train_alt, y_test_alt = train_test_split(X_alt, y, random_state=42)\n",
        "\n",
        "model_alt = LinearRegression()\n",
        "model_alt.fit(X_train_alt, y_train_alt)\n",
        "y_pred_alt = model_alt.predict(X_test_alt)\n",
        "\n",
        "alt_r2 = r2_score(y_test_alt, y_pred_alt)\n",
        "print(f\"\\n7. R² Score using only Radio and Newspaper: {alt_r2:.4f}\")"
      ],
      "metadata": {
        "colab": {
          "base_uri": "https://localhost:8080/"
        },
        "id": "qYRjA6q3TGp_",
        "outputId": "bed49fa7-bc16-4fc5-b79a-96d8ee8ca780"
      },
      "execution_count": 13,
      "outputs": [
        {
          "output_type": "stream",
          "name": "stdout",
          "text": [
            "\n",
            "7. R² Score using only Radio and Newspaper: -0.1880\n"
          ]
        }
      ]
    }
  ]
}