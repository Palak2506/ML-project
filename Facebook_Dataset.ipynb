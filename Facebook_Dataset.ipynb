{
  "nbformat": 4,
  "nbformat_minor": 0,
  "metadata": {
    "colab": {
      "provenance": [],
      "authorship_tag": "ABX9TyO+fYXCSzClRfUtHjjv8qPY",
      "include_colab_link": true
    },
    "kernelspec": {
      "name": "python3",
      "display_name": "Python 3"
    },
    "language_info": {
      "name": "python"
    }
  },
  "cells": [
    {
      "cell_type": "markdown",
      "metadata": {
        "id": "view-in-github",
        "colab_type": "text"
      },
      "source": [
        "<a href=\"https://colab.research.google.com/github/Palak2506/ML-project/blob/main/Facebook_Dataset.ipynb\" target=\"_parent\"><img src=\"https://colab.research.google.com/assets/colab-badge.svg\" alt=\"Open In Colab\"/></a>"
      ]
    },
    {
      "cell_type": "code",
      "execution_count": 1,
      "metadata": {
        "id": "G4yRmM93neQk"
      },
      "outputs": [],
      "source": [
        "import numpy as np\n",
        "import matplotlib.pyplot as plt\n",
        "import pandas as pd\n"
      ]
    },
    {
      "cell_type": "markdown",
      "source": [
        "Importing dataset"
      ],
      "metadata": {
        "id": "eg_Zxr8JpqtU"
      }
    },
    {
      "cell_type": "code",
      "source": [
        "df = pd.read_csv('Facebook_Marketplace_data.csv')\n",
        "X = df.iloc[:,:-1].values #All columns except the last\n",
        "y = df.iloc[:,-1].values   #Only last column"
      ],
      "metadata": {
        "id": "hG7D0QS1rFxq"
      },
      "execution_count": 5,
      "outputs": []
    },
    {
      "cell_type": "code",
      "source": [
        "print(X)"
      ],
      "metadata": {
        "colab": {
          "base_uri": "https://localhost:8080/"
        },
        "id": "pGUKo07Iz5UI",
        "outputId": "e19079e6-9fef-42eb-8007-b4de9b2201b2"
      },
      "execution_count": 6,
      "outputs": [
        {
          "output_type": "stream",
          "name": "stdout",
          "text": [
            "[[1 'video' '4/22/2018 6:00' ... nan nan nan]\n",
            " [2 'photo' '4/21/2018 22:45' ... nan nan nan]\n",
            " [3 'video' '4/21/2018 6:17' ... nan nan nan]\n",
            " ...\n",
            " [7048 'photo' '9/21/2016 23:03' ... nan nan nan]\n",
            " [7049 'photo' '9/20/2016 0:43' ... nan nan nan]\n",
            " [7050 'photo' '9/10/2016 10:30' ... nan nan nan]]\n"
          ]
        }
      ]
    },
    {
      "cell_type": "code",
      "source": [
        "print(y)"
      ],
      "metadata": {
        "colab": {
          "base_uri": "https://localhost:8080/"
        },
        "id": "mPGvvuAB0Ljf",
        "outputId": "6b169c53-1484-4ae2-cdfb-9d32af0d4cca"
      },
      "execution_count": 7,
      "outputs": [
        {
          "output_type": "stream",
          "name": "stdout",
          "text": [
            "[nan nan nan ... nan nan nan]\n"
          ]
        }
      ]
    },
    {
      "cell_type": "code",
      "source": [
        "from sklearn.impute import SimpleImputer   #Only works for the numeric values.\n",
        "imputer = SimpleImputer(missing_values=np.nan,strategy= 'mean')\n",
        "imputer.fit(X[:,1:3])\n",
        "X[:,1:3] = imputer.transform(X[:,1:3])\n",
        "print(X)"
      ],
      "metadata": {
        "id": "Kn-Wx2tM-JnE"
      },
      "execution_count": null,
      "outputs": []
    }
  ]
}