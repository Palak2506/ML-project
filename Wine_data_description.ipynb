{
  "nbformat": 4,
  "nbformat_minor": 0,
  "metadata": {
    "colab": {
      "provenance": [],
      "authorship_tag": "ABX9TyN4/JwTA256HQzh8fh5854k",
      "include_colab_link": true
    },
    "kernelspec": {
      "name": "python3",
      "display_name": "Python 3"
    },
    "language_info": {
      "name": "python"
    }
  },
  "cells": [
    {
      "cell_type": "markdown",
      "metadata": {
        "id": "view-in-github",
        "colab_type": "text"
      },
      "source": [
        "<a href=\"https://colab.research.google.com/github/Palak2506/ML-project/blob/main/Wine_data_description.ipynb\" target=\"_parent\"><img src=\"https://colab.research.google.com/assets/colab-badge.svg\" alt=\"Open In Colab\"/></a>"
      ]
    },
    {
      "cell_type": "code",
      "execution_count": 1,
      "metadata": {
        "id": "nxRNPfWhZIII"
      },
      "outputs": [],
      "source": [
        "import pandas as pd\n",
        "import seaborn as sns\n",
        "import matplotlib.pyplot as plt\n",
        "from sklearn.model_selection import train_test_split\n",
        "from sklearn.tree import DecisionTreeClassifier\n",
        "from sklearn.ensemble import RandomForestClassifier\n",
        "from sklearn.metrics import accuracy_score\n"
      ]
    },
    {
      "cell_type": "code",
      "source": [
        "# Load the dataset\n",
        "df = pd.read_csv(\"winedataexcel.csv\")\n"
      ],
      "metadata": {
        "id": "Npa65j7qZaWH"
      },
      "execution_count": 4,
      "outputs": []
    },
    {
      "cell_type": "code",
      "source": [
        "# 1. Most frequently occurring wine quality and min/max in quality column\n",
        "most_frequent_quality = df['quality'].mode()[0]\n",
        "highest_quality = df['quality'].max()\n",
        "lowest_quality = df['quality'].min()\n",
        "print(f\"Most Frequent Quality: {most_frequent_quality}\")\n",
        "print(f\"Highest Quality: {highest_quality}\")\n",
        "print(f\"Lowest Quality: {lowest_quality}\")"
      ],
      "metadata": {
        "colab": {
          "base_uri": "https://localhost:8080/"
        },
        "id": "IT8Ve_WaaI_G",
        "outputId": "10c3799d-fe21-4261-8f2a-4dce1635e8b5"
      },
      "execution_count": 5,
      "outputs": [
        {
          "output_type": "stream",
          "name": "stdout",
          "text": [
            "Most Frequent Quality: 5\n",
            "Highest Quality: 8\n",
            "Lowest Quality: 3\n"
          ]
        }
      ]
    },
    {
      "cell_type": "code",
      "source": [
        "# 2. Correlation analysis\n",
        "df_corr = df.corr()\n",
        "print(df_corr[['quality']].loc[['fixed acidity', 'alcohol', 'free sulfur dioxide']])\n"
      ],
      "metadata": {
        "colab": {
          "base_uri": "https://localhost:8080/"
        },
        "id": "vXL222IEaKUa",
        "outputId": "65041216-0491-45bc-8a90-b39a46e530b3"
      },
      "execution_count": 6,
      "outputs": [
        {
          "output_type": "stream",
          "name": "stdout",
          "text": [
            "                      quality\n",
            "fixed acidity        0.124052\n",
            "alcohol              0.476166\n",
            "free sulfur dioxide -0.050656\n"
          ]
        }
      ]
    },
    {
      "cell_type": "code",
      "source": [
        "# 3. Average residual sugar for best and worst quality wines\n",
        "best_quality_avg_sugar = df[df['quality'] == highest_quality]['residual sugar'].mean()\n",
        "worst_quality_avg_sugar = df[df['quality'] == lowest_quality]['residual sugar'].mean()\n",
        "print(f\"Average Residual Sugar for Best Quality Wine: {best_quality_avg_sugar}\")\n",
        "print(f\"Average Residual Sugar for Worst Quality Wine: {worst_quality_avg_sugar}\")"
      ],
      "metadata": {
        "colab": {
          "base_uri": "https://localhost:8080/"
        },
        "id": "Ych3mpjIaOVm",
        "outputId": "d6dd9324-e472-4a32-d65f-1d2467d9df02"
      },
      "execution_count": 7,
      "outputs": [
        {
          "output_type": "stream",
          "name": "stdout",
          "text": [
            "Average Residual Sugar for Best Quality Wine: 2.5777777777777775\n",
            "Average Residual Sugar for Worst Quality Wine: 2.6350000000000002\n"
          ]
        }
      ]
    },
    {
      "cell_type": "code",
      "source": [
        "# 4. Volatile Acidity Effect on Quality\n",
        "plt.figure(figsize=(8,5))\n",
        "sns.boxplot(x='quality', y='volatile acidity', data=df)\n",
        "plt.title(\"Volatile Acidity vs Wine Quality\")\n",
        "plt.show()"
      ],
      "metadata": {
        "colab": {
          "base_uri": "https://localhost:8080/",
          "height": 487
        },
        "id": "_uvhxtncaSbF",
        "outputId": "3bb3317b-f199-4403-8a24-0be591f87323"
      },
      "execution_count": 8,
      "outputs": [
        {
          "output_type": "display_data",
          "data": {
            "text/plain": [
              "<Figure size 800x500 with 1 Axes>"
            ],
            "image/png": "[encoded data removed]"
          },
          "metadata": {}
        }
      ]
    },
    {
      "cell_type": "code",
      "source": [
        "# 5. Decision Tree and Random Forest Model Training\n",
        "X = df.drop(columns=['quality'])\n",
        "y = df['quality']\n",
        "X_train, X_test, y_train, y_test = train_test_split(X, y, test_size=0.2, random_state=42)"
      ],
      "metadata": {
        "id": "DWWycyixaWPF"
      },
      "execution_count": 9,
      "outputs": []
    },
    {
      "cell_type": "code",
      "source": [
        "# Decision Tree Model\n",
        "dt_model = DecisionTreeClassifier(random_state=42)\n",
        "dt_model.fit(X_train, y_train)\n",
        "dt_predictions = dt_model.predict(X_test)\n",
        "dt_accuracy = accuracy_score(y_test, dt_predictions)\n",
        "print(f\"Decision Tree Accuracy: {dt_accuracy}\")"
      ],
      "metadata": {
        "colab": {
          "base_uri": "https://localhost:8080/"
        },
        "id": "Ur1Z8o61aZZY",
        "outputId": "ed5a5c96-85cd-4403-cb29-2e1fcc135e04"
      },
      "execution_count": 10,
      "outputs": [
        {
          "output_type": "stream",
          "name": "stdout",
          "text": [
            "Decision Tree Accuracy: 0.559375\n"
          ]
        }
      ]
    },
    {
      "cell_type": "code",
      "source": [
        "# Random Forest Model\n",
        "rf_model = RandomForestClassifier(n_estimators=100, random_state=42)\n",
        "rf_model.fit(X_train, y_train)\n",
        "rf_predictions = rf_model.predict(X_test)\n",
        "rf_accuracy = accuracy_score(y_test, rf_predictions)\n",
        "print(f\"Random Forest Accuracy: {rf_accuracy}\")"
      ],
      "metadata": {
        "colab": {
          "base_uri": "https://localhost:8080/"
        },
        "id": "7DxljyXcadul",
        "outputId": "0b8d757a-0eef-454a-8ff5-5988751f3e6a"
      },
      "execution_count": 11,
      "outputs": [
        {
          "output_type": "stream",
          "name": "stdout",
          "text": [
            "Random Forest Accuracy: 0.659375\n"
          ]
        }
      ]
    }
  ]
}